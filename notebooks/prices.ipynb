{
 "cells": [
  {
   "cell_type": "markdown",
   "id": "c90919e4-1a73-4491-a330-45ba50936d42",
   "metadata": {},
   "source": [
    "File: prices.ipynb\\\n",
    "Author: alexkobz\\\n",
    "Date: 08-10-2024\\\n",
    "Task: DSRFU-298"
   ]
  },
  {
   "cell_type": "markdown",
   "id": "10491ac6-ac6e-4e93-a3fa-cf2555c9e313",
   "metadata": {},
   "source": [
    "#### Шаг 0. Импорт и получение токена"
   ]
  },
  {
   "cell_type": "code",
   "id": "4f8ac689-dafe-4306-bba5-c759f70335f5",
   "metadata": {
    "scrolled": true
   },
   "source": [
    "import requests\n",
    "import pandas as pd\n",
    "import numpy as np\n",
    "import nest_asyncio; nest_asyncio.apply()\n",
    "from datetime import datetime as dt\n",
    "from math import ceil\n",
    "from src.utils.get_date import last_day_month, last_day_month_str, last_work_date_month, last_work_date_month_str\n",
    "\n",
    "# последний день месяца\n",
    "REPORT_DATE = last_day_month\n",
    "REPORT_DATE_STR = last_day_month_str\n",
    "# увеличиваем количество столбцов и строк для просмотра\n",
    "pd.set_option('display.max_rows', 200, 'display.max_columns', 200)\n",
    "REPORT_DATE"
   ],
   "outputs": [],
   "execution_count": null
  },
  {
   "cell_type": "code",
   "id": "4060e8f4-a402-426f-8d51-46e22f0e15b1",
   "metadata": {},
   "source": [
    "from src.sources.rudata.RuDataMethod import Account, FintoolReferenceData, EndOfDay, AccruedInterestOnDate, FloaterData, FloatersOnPeriod, RUPriceHistory, ExchangeTree, MoexSecurities, CurrencyRate, HistoryStockBonds, HistoryStockShares, HistoryStockNdm, HistoryStockCcp\n",
    "Acc = Account()"
   ],
   "outputs": [],
   "execution_count": null
  },
  {
   "cell_type": "markdown",
   "id": "1d71d26b-fc1d-4cd2-a0dd-12f93a99326a",
   "metadata": {},
   "source": [
    "#### Шаг 1. RuData"
   ]
  },
  {
   "cell_type": "markdown",
   "id": "6b10ea87-fc49-4412-afac-cebe2af7e264",
   "metadata": {},
   "source": [
    "##### Шаг 1.0. RuData stage"
   ]
  },
  {
   "cell_type": "code",
   "id": "3df8953c-99e1-44ee-aea3-3cca025534a7",
   "metadata": {
    "scrolled": true
   },
   "source": [
    "FintoolReferenceDataDF = FintoolReferenceData().df\n",
    "FintoolReferenceDataDF.head()"
   ],
   "outputs": [],
   "execution_count": null
  },
  {
   "metadata": {},
   "cell_type": "code",
   "source": [
    "EndOfDayDF = EndOfDay().df\n",
    "EndOfDayDF.head()"
   ],
   "id": "8b379f4314885d66",
   "outputs": [],
   "execution_count": null
  },
  {
   "cell_type": "code",
   "id": "4de5a375-ecc7-481c-9745-9286381abef6",
   "metadata": {
    "scrolled": true
   },
   "source": [
    "AccruedInterestOnDateDF = AccruedInterestOnDate().df\n",
    "AccruedInterestOnDateDF.head()"
   ],
   "outputs": [],
   "execution_count": null
  },
  {
   "metadata": {},
   "cell_type": "code",
   "source": [
    "FloaterDataDF = FloaterData().df\n",
    "FloaterDataDF.head()"
   ],
   "id": "7e9528987c662baf",
   "outputs": [],
   "execution_count": null
  },
  {
   "metadata": {},
   "cell_type": "code",
   "source": [
    "FloatersOnPeriodDF = FloatersOnPeriod().df\n",
    "FloatersOnPeriodDF.head()"
   ],
   "id": "80d917e095f44312",
   "outputs": [],
   "execution_count": null
  },
  {
   "cell_type": "code",
   "id": "0f210293-2d4a-41a4-8144-f4d0f7528a3c",
   "metadata": {
    "scrolled": true
   },
   "source": [
    "RUPriceHistoryDF = RUPriceHistory().df\n",
    "RUPriceHistoryDF.head()"
   ],
   "outputs": [],
   "execution_count": null
  },
  {
   "cell_type": "code",
   "id": "4acfae9c-0827-48c3-9675-eab130ac8559",
   "metadata": {
    "scrolled": true
   },
   "source": [
    "ExchangeTreeDF = ExchangeTree().df\n",
    "ExchangeTreeDF.head()"
   ],
   "outputs": [],
   "execution_count": null
  },
  {
   "cell_type": "code",
   "id": "ee8fd42d-a34f-4b1a-a26e-1ff5d4265fe1",
   "metadata": {
    "scrolled": true
   },
   "source": [
    "MoexSecuritiesDF = MoexSecurities().df\n",
    "MoexSecuritiesDF.head()"
   ],
   "outputs": [],
   "execution_count": null
  },
  {
   "cell_type": "code",
   "id": "ca4631a9-4975-4eb5-bc95-0f4c53deb7ae",
   "metadata": {},
   "source": [
    "CurrencyRateDF = CurrencyRate().df\n",
    "CurrencyRateDF.head()"
   ],
   "outputs": [],
   "execution_count": null
  },
  {
   "cell_type": "markdown",
   "id": "bec847e6-078b-4cc7-8809-1347826cbeb9",
   "metadata": {},
   "source": [
    "##### Шаг 1.1. RuData MOEX stage"
   ]
  },
  {
   "cell_type": "code",
   "id": "2a92c63e-4640-4173-b620-c69fa9a35dd1",
   "metadata": {
    "scrolled": true
   },
   "source": [
    "HistoryStockBondsDF = HistoryStockBonds().df\n",
    "HistoryStockBondsDF.head()"
   ],
   "outputs": [],
   "execution_count": null
  },
  {
   "cell_type": "code",
   "id": "732369c9-608b-4b9d-8084-3df416602ec4",
   "metadata": {
    "scrolled": true
   },
   "source": [
    "HistoryStockSharesDF = HistoryStockShares().df\n",
    "HistoryStockSharesDF.head()"
   ],
   "outputs": [],
   "execution_count": null
  },
  {
   "cell_type": "code",
   "id": "af5439ef-c0fd-4418-a4be-923b324e93f3",
   "metadata": {
    "scrolled": true
   },
   "source": [
    "HistoryStockNdmDF = HistoryStockNdm().df\n",
    "HistoryStockNdmDF.head()"
   ],
   "outputs": [],
   "execution_count": null
  },
  {
   "cell_type": "code",
   "id": "921381d2-1d85-4441-a45c-569372adbf84",
   "metadata": {
    "scrolled": true
   },
   "source": [
    "HistoryStockCcpDF = HistoryStockCcp().df\n",
    "HistoryStockCcpDF.head()"
   ],
   "outputs": [],
   "execution_count": null
  },
  {
   "cell_type": "markdown",
   "id": "1cc7b099-f7c6-4f9c-bb2f-ca73605ad5d3",
   "metadata": {},
   "source": "##### Шаг 1.1. Discounts"
  },
  {
   "metadata": {},
   "cell_type": "code",
   "source": [
    "# Prices = pd.DataFrame(\n",
    "#     index=FintoolReferenceDataDF['isincode'].dropna().unique(),\n",
    "#     columns=\n",
    "#         [\"Name\", \"Type\", \"Principal\", \"Currency\", \"Clean price pct\", \"Clean price\", \"Interest\", \"Price\",\n",
    "#         \"Source\", \"ISIN in DB\", \"FX Rate\", \"RUB Price\", \"CBR discount 6D\", \"Discount NCC\", \"NCC collateral\"]\n",
    "# )\n",
    "# Prices.index.name = 'ISIN'\n",
    "# Prices[\"Date\"] = REPORT_DATE"
   ],
   "id": "9b52108cd2e55128",
   "outputs": [],
   "execution_count": null
  },
  {
   "metadata": {},
   "cell_type": "markdown",
   "source": "##### Шаг 2. RuData transform",
   "id": "a7a9c93104374923"
  },
  {
   "metadata": {},
   "cell_type": "code",
   "source": [
    "Prices = FintoolReferenceDataDF[['isincode', 'nickname', 'fintooltype', 'fintoolid', 'faceftname']]\\\n",
    ".rename(columns={\n",
    "    \"isincode\": \"ISIN\",\n",
    "    \"nickname\": \"Name\",\n",
    "    \"fintoolid\": \"Fintool\",\n",
    "    \"fintooltype\": \"Type\",\n",
    "    \"faceftname\": \"Currency\"\n",
    "})\n",
    "Prices = Prices[~(Prices[\"ISIN\"].isna() | (Prices[\"ISIN\"].isin(['None', ''])))]\n",
    "InterestDF = AccruedInterestOnDateDF[['fintoolId', 'accruedInterest', 'currentFaceValue']].set_index('fintoolId')\n",
    "InterestDF.update(FloatersOnPeriodDF.groupby('fintoolId').last())\n",
    "Prices = Prices.merge(\n",
    "    InterestDF, how=\"left\", left_on=\"Fintool\", right_index=True)\n",
    "Prices = Prices.rename(columns={\n",
    "    'accruedInterest': 'Interest',\n",
    "    'currentFaceValue': 'Principal'})\n",
    "Prices = Prices.merge(\n",
    "    CurrencyRateDF[['currency', 'rate']], how='left', left_on='Currency', right_on='currency'\n",
    ").drop(columns=['currency'])"
   ],
   "id": "4c1b659b20168f47",
   "outputs": [],
   "execution_count": null
  },
  {
   "cell_type": "markdown",
   "id": "9f4b868a-b86c-4f0e-b9f8-66ddd9f128c7",
   "metadata": {},
   "source": "###### Шаг 1.1.1. CBR"
  },
  {
   "cell_type": "code",
   "id": "618c6d8a-a335-4799-b451-eab62cb4db8c",
   "metadata": {
    "scrolled": true
   },
   "source": [
    "from src.sources.cbr.CBR_Soap import CBR_Soap\n",
    "\n",
    "headers = {'user-agent': 'Mozilla/5.0 (Windows NT 10.0; Win64; x64) AppleWebKit/537.36 (KHTML, like Gecko) Chrome/132.0.6834.111 Safari/537.36', \n",
    "           'Accept-Encoding': 'gzip, deflate', \n",
    "           'Accept': '*/*', \n",
    "           'Connection': 'keep-alive'}\n",
    "cbr_disc = CBR_Soap()\\\n",
    ".get_discounts(date=last_work_date_month_str)[['ISIN', 'от 1 месяца до 180 дней_Beg']]\\\n",
    ".rename(columns={'от 1 месяца до 180 дней_Beg': 'CBR discount 6D'})\\\n",
    ".groupby('ISIN')\\\n",
    ".last()\\\n",
    ".reset_index()"
   ],
   "outputs": [],
   "execution_count": null
  },
  {
   "cell_type": "code",
   "id": "2b6c43b3-a944-4970-a42d-68947ce563f5",
   "metadata": {},
   "source": [
    "Prices = Prices.merge(cbr_disc, how='left', left_on='ISIN', right_on='ISIN')\n",
    "Prices['CBR discount 6D'] = Prices['CBR discount 6D'].fillna(1.0)"
   ],
   "outputs": [],
   "execution_count": null
  },
  {
   "cell_type": "markdown",
   "id": "e8b7b0b8-1bcd-4c93-adf6-983f3c250994",
   "metadata": {
    "jp-MarkdownHeadingCollapsed": true
   },
   "source": "###### Шаг 1.1.2. nationalclearingcentre Рыночные риски"
  },
  {
   "cell_type": "code",
   "id": "dc9dcfb6-76ae-4c97-823c-381156544e2b",
   "metadata": {},
   "source": [
    "currMarketRatesResponse = requests.get(f'https://www.nationalclearingcentre.ru/api/v1/rates/fondMarketRates?action=xls&xls=1&lang=ru&date={last_work_date_month.strftime(\"%d.%m.%Y\")}', headers=headers)\n",
    "currMarketRates = pd.read_excel(currMarketRatesResponse.content,header=2)\n",
    "currMarketRates = currMarketRates[(currMarketRates['Диапазон']==1)&(currMarketRates['Ставка риска падения цены,%']!=100)].reset_index(drop=True)\n",
    "currMarketRates = currMarketRates\\\n",
    ".merge(MoexSecuritiesDF[['secid', 'isin']], how='left', left_on='Инструмент', right_on='secid')\\\n",
    ".rename(columns={'isin': 'ISIN'})\\\n",
    ".groupby('ISIN')\\\n",
    ".last()\\\n",
    ".reset_index()\n",
    "currMarketRates = currMarketRates[currMarketRates['ISIN'].str.match('([A-Z]{2})([A-Z0-9]{9})([0-9]{1})$')]\n",
    "currMarketRates = currMarketRates[\n",
    "    (currMarketRates['Диапазон']==1) & (currMarketRates['Ставка риска падения цены,%'] != 100)\n",
    "]\n",
    "currMarketRates=currMarketRates[['ISIN', 'Ставка риска падения цены,%']]\\\n",
    ".rename(columns={'Ставка риска падения цены,%': 'Risk rate'})\n",
    "# Формула из п.12.1 Методики НКЦ определения риск-параметров\n",
    "currMarketRates['Discount NCC'] = currMarketRates['Risk rate'].apply(lambda x: min(30, ceil(x/np.sqrt(2)))/100)"
   ],
   "outputs": [],
   "execution_count": null
  },
  {
   "cell_type": "code",
   "id": "75f38adc-cdf8-40e2-b0c5-5d66cce25810",
   "metadata": {},
   "source": [
    "Prices = Prices.merge(currMarketRates[['ISIN', 'Discount NCC']], how='left', left_on='ISIN', right_on='ISIN')\n",
    "Prices['Discount NCC'] = Prices['Discount NCC'].fillna(1.0)"
   ],
   "outputs": [],
   "execution_count": null
  },
  {
   "cell_type": "markdown",
   "id": "b23b45da-8ec0-4c08-919e-7546fcb1a6c7",
   "metadata": {},
   "source": "###### Шаг 1.1.3. nationalclearingcentre Параметры ценных бумаг"
  },
  {
   "cell_type": "code",
   "id": "22bf59c3-dc5b-4e71-b117-cc268e884192",
   "metadata": {},
   "source": [
    "securInfoResponse = requests.get(f'https://www.nationalclearingcentre.ru/api/v1/rates/securInfo?action=xls&lang=ru&settleDate={last_work_date_month.strftime(\"%d.%m.%Y\")}', headers=headers)\n",
    "securInfo = pd.read_excel(securInfoResponse.content, header=2)[['ISIN ЦБ', 'Принимается в обеспеч.']]\\\n",
    ".rename(columns={\n",
    "    'ISIN ЦБ': 'ISIN',\n",
    "    'Принимается в обеспеч.': 'NCC collateral'\n",
    "})\\\n",
    ".dropna()\\\n",
    ".groupby('ISIN')\\\n",
    ".last()\\\n",
    ".reset_index()\n",
    "securInfo = securInfo[securInfo['NCC collateral']=='Да']"
   ],
   "outputs": [],
   "execution_count": null
  },
  {
   "cell_type": "code",
   "id": "dd232694-74fc-42a7-94f0-65f8542eda06",
   "metadata": {},
   "source": [
    "Prices = Prices.merge(securInfo, how='left', left_on='ISIN', right_on='ISIN')\n",
    "Prices['NCC collateral'] = Prices['NCC collateral'].fillna('Нет')"
   ],
   "outputs": [],
   "execution_count": null
  },
  {
   "cell_type": "markdown",
   "id": "ea71630a-a9a0-4b0b-8036-aae3cb37dc2b",
   "metadata": {},
   "source": "##### Шаг 1.2. RuData transform"
  },
  {
   "metadata": {},
   "cell_type": "code",
   "source": [
    "RUPriceHistoryLast = RUPriceHistoryDF.groupby('isincode').last().rename(columns={\n",
    "    'vp_pct': 'Clean price pct',\n",
    "    'vp_pc': 'Clean price',\n",
    "    'acc_int': 'InterestHistory'\n",
    "}).reset_index()\n",
    "ru_price = RUPriceHistoryLast[['isincode', 'Clean price pct', 'Clean price', 'InterestHistory']].merge(\n",
    "    Prices[['ISIN', 'Type', 'Interest']], left_on='isincode', right_on='ISIN')\n",
    "ccnrd_bonds_idx = ru_price[\"Type\"]=='Облигация'\n",
    "ru_price.loc[ccnrd_bonds_idx, \"InterestHistory\"] = ru_price.loc[ccnrd_bonds_idx, \"InterestHistory\"].combine_first(ru_price.loc[ccnrd_bonds_idx, \"Interest\"])\n",
    "ru_price.loc[ccnrd_bonds_idx, \"Price\"] = ru_price.loc[ccnrd_bonds_idx, \"Clean price\"] + ru_price.loc[ccnrd_bonds_idx, \"InterestHistory\"].fillna(0)\n",
    "ru_price.loc[~ccnrd_bonds_idx, \"Price\"] = ru_price.loc[~ccnrd_bonds_idx, \"Clean price\"]\n",
    "ru_price[\"Source\"] = 'RU Data (ЦЦ НРД)'"
   ],
   "id": "6589278cae202bc3",
   "outputs": [],
   "execution_count": null
  },
  {
   "metadata": {},
   "cell_type": "code",
   "source": [
    "exch_prices = EndOfDayDF.merge(\n",
    "    ExchangeTreeDF[['id', 'fullname_rus']], how='left', left_on='id_trade_site', right_on='id')[['fintoolId', 'last', 'fullname_rus']]\n",
    "exch_prices[\"Source\"] = exch_prices['fullname_rus'].apply(lambda x: 'RU Data (' + str(x) + ')')\n",
    "exch_prices = exch_prices\\\n",
    ".rename(columns={\n",
    "    'fintoolId': 'Fintool',\n",
    "    'last': 'PriceEX'\n",
    "})\n",
    "exch_prices = exch_prices.merge(Prices[[\"Fintool\", \"ISIN\", \"Type\", \"Principal\", \"Interest\"]], how='inner')\n",
    "exch_prices[['PriceEX', 'Principal', 'Interest']] = exch_prices[['PriceEX', 'Principal', 'Interest']].fillna(0)\n",
    "\n",
    "exch_bonds = exch_prices['Type']=='Облигация'\n",
    "exch_prices.loc[exch_bonds, \"Clean price pct\"] = exch_prices.loc[exch_bonds, \"PriceEX\"]\n",
    "exch_prices.loc[exch_bonds, \"Clean price\"] = exch_prices.loc[exch_bonds, \"Clean price pct\"]/100 * exch_prices.loc[exch_bonds, \"Principal\"]\n",
    "exch_prices.loc[exch_bonds, \"Price\"] = exch_prices.loc[exch_bonds, \"Clean price\"] + exch_prices.loc[exch_bonds, \"Interest\"]\n",
    "\n",
    "exch_prices.loc[~exch_bonds, 'Clean price'] = exch_prices.loc[~exch_bonds, 'PriceEX']\n",
    "exch_prices.loc[~exch_bonds, 'Price'] = exch_prices.loc[~exch_bonds, 'PriceEX']"
   ],
   "id": "a649b7aa61030a8e",
   "outputs": [],
   "execution_count": null
  },
  {
   "cell_type": "markdown",
   "id": "479740a1-cf8d-476c-b28a-3d31b9e862fa",
   "metadata": {},
   "source": [
    "##### Шаг 3.1. Tranform"
   ]
  },
  {
   "cell_type": "code",
   "id": "ebae13ea-96aa-4ad1-b021-5fb04e85ea28",
   "metadata": {},
   "source": [
    "TransformHistoryStockBonds = HistoryStockBondsDF.groupby(\"isin\")['close'].last().rename(\"Price\").reset_index()\n",
    "TransformHistoryStockShares = HistoryStockSharesDF.groupby(\"isin\")['close'].last().rename(\"Price\").reset_index()\n",
    "TransformHistoryStockNdm = HistoryStockNdmDF.groupby(\"isin\")['close'].last().rename(\"Price\").reset_index()\n",
    "TransformHistoryStockCcp = HistoryStockCcpDF.groupby(\"isin\")['close'].last().rename(\"Price\").reset_index()\n",
    "HistoryStock = pd.concat(\n",
    "    [TransformHistoryStockBonds, TransformHistoryStockShares, TransformHistoryStockNdm, TransformHistoryStockCcp]\n",
    ").rename(columns={'isin': 'ISIN'})\n",
    "HistoryStock['Source'] = 'RU Data (MOEX)'"
   ],
   "outputs": [],
   "execution_count": null
  },
  {
   "cell_type": "markdown",
   "id": "4570bbca-b446-4f77-9887-37ff6baa53ec",
   "metadata": {},
   "source": [
    "#### Шаг 4. Finish"
   ]
  },
  {
   "metadata": {},
   "cell_type": "code",
   "source": [
    "source_prices = pd.concat([\n",
    "    ru_price[[\"ISIN\", \"Clean price pct\", \"Clean price\", \"Price\", \"Source\"]],\n",
    "    exch_prices[[\"ISIN\", \"Clean price pct\", \"Clean price\", \"Price\", \"Source\"]],\n",
    "    HistoryStock\n",
    "])"
   ],
   "id": "8be9b4b06eb7fa81",
   "outputs": [],
   "execution_count": null
  },
  {
   "cell_type": "code",
   "id": "4e7b9749-6b30-4ad6-b4d8-8653bd5a35da",
   "metadata": {},
   "source": [
    "result = Prices.merge(source_prices, how='inner', left_on='ISIN', right_on='ISIN')\n",
    "result['isin_in_db'] = 1\n",
    "result['export_timestamp'] = dt.now().replace(microsecond=0)\n",
    "result['Date'] = pd.to_datetime(last_day_month)\n",
    "result['Source'] = result['Source'].fillna(0)\n",
    "result = result.sort_values('ISIN')"
   ],
   "outputs": [],
   "execution_count": null
  },
  {
   "cell_type": "markdown",
   "id": "0bb4fc3a-4f19-4eb2-8814-d71305f32d7b",
   "metadata": {},
   "source": [
    "##### Шаг 4.2. Write excel"
   ]
  },
  {
   "metadata": {},
   "cell_type": "code",
   "source": [
    "result.to_csv('../data/Output/prices.csv', index=False)\n",
    "result.to_excel('../data/Output/prices.xlsx', index=False)"
   ],
   "id": "a3a3cbb629dbc2f1",
   "outputs": [],
   "execution_count": null
  },
  {
   "cell_type": "code",
   "id": "bc734faf-270a-44ec-a239-09d98dc30bbd",
   "metadata": {},
   "source": [
    "from src.utils.send_email import main\n",
    "main(\"prices.xlsx\", \"prices.csv\")"
   ],
   "outputs": [],
   "execution_count": null
  }
 ],
 "metadata": {
  "kernelspec": {
   "display_name": "Python 3",
   "language": "python",
   "name": "python3"
  },
  "language_info": {
   "codemirror_mode": {
    "name": "ipython",
    "version": 3
   },
   "file_extension": ".py",
   "mimetype": "text/x-python",
   "name": "python",
   "nbconvert_exporter": "python",
   "pygments_lexer": "ipython3",
   "version": "3.10.11"
  }
 },
 "nbformat": 4,
 "nbformat_minor": 5
}
