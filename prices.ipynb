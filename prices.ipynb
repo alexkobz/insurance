{
 "cells": [
  {
   "cell_type": "markdown",
   "id": "c90919e4-1a73-4491-a330-45ba50936d42",
   "metadata": {},
   "source": [
    "File: prices.ipynb\\\n",
    "Author: alexkobz\\\n",
    "Date: \\\n",
    "Task: DSRFU-298"
   ]
  },
  {
   "cell_type": "markdown",
   "id": "10491ac6-ac6e-4e93-a3fa-cf2555c9e313",
   "metadata": {},
   "source": [
    "#### Шаг 0. Импорт и получение токена"
   ]
  },
  {
   "cell_type": "code",
   "execution_count": 1,
   "id": "4f8ac689-dafe-4306-bba5-c759f70335f5",
   "metadata": {
    "scrolled": true
   },
   "outputs": [
    {
     "name": "stderr",
     "output_type": "stream",
     "text": [
      "\n",
      "A module that was compiled using NumPy 1.x cannot be run in\n",
      "NumPy 2.0.2 as it may crash. To support both 1.x and 2.x\n",
      "versions of NumPy, modules must be compiled with NumPy 2.0.\n",
      "Some module may need to rebuild instead e.g. with 'pybind11>=2.12'.\n",
      "\n",
      "If you are a user of the module, the easiest solution will be to\n",
      "downgrade to 'numpy<2' or try to upgrade the affected module.\n",
      "We expect that some modules will need time to support NumPy 2.\n",
      "\n",
      "Traceback (most recent call last):  File \"<frozen runpy>\", line 198, in _run_module_as_main\n",
      "  File \"<frozen runpy>\", line 88, in _run_code\n",
      "  File \"/Library/Frameworks/Python.framework/Versions/3.11/lib/python3.11/site-packages/ipykernel_launcher.py\", line 18, in <module>\n",
      "    app.launch_new_instance()\n",
      "  File \"/Library/Frameworks/Python.framework/Versions/3.11/lib/python3.11/site-packages/traitlets/config/application.py\", line 1075, in launch_instance\n",
      "    app.start()\n",
      "  File \"/Library/Frameworks/Python.framework/Versions/3.11/lib/python3.11/site-packages/ipykernel/kernelapp.py\", line 739, in start\n",
      "    self.io_loop.start()\n",
      "  File \"/Library/Frameworks/Python.framework/Versions/3.11/lib/python3.11/site-packages/tornado/platform/asyncio.py\", line 205, in start\n",
      "    self.asyncio_loop.run_forever()\n",
      "  File \"/Library/Frameworks/Python.framework/Versions/3.11/lib/python3.11/asyncio/base_events.py\", line 608, in run_forever\n",
      "    self._run_once()\n",
      "  File \"/Library/Frameworks/Python.framework/Versions/3.11/lib/python3.11/asyncio/base_events.py\", line 1936, in _run_once\n",
      "    handle._run()\n",
      "  File \"/Library/Frameworks/Python.framework/Versions/3.11/lib/python3.11/asyncio/events.py\", line 84, in _run\n",
      "    self._context.run(self._callback, *self._args)\n",
      "  File \"/Library/Frameworks/Python.framework/Versions/3.11/lib/python3.11/site-packages/ipykernel/kernelbase.py\", line 545, in dispatch_queue\n",
      "    await self.process_one()\n",
      "  File \"/Library/Frameworks/Python.framework/Versions/3.11/lib/python3.11/site-packages/ipykernel/kernelbase.py\", line 534, in process_one\n",
      "    await dispatch(*args)\n",
      "  File \"/Library/Frameworks/Python.framework/Versions/3.11/lib/python3.11/site-packages/ipykernel/kernelbase.py\", line 437, in dispatch_shell\n",
      "    await result\n",
      "  File \"/Library/Frameworks/Python.framework/Versions/3.11/lib/python3.11/site-packages/ipykernel/ipkernel.py\", line 362, in execute_request\n",
      "    await super().execute_request(stream, ident, parent)\n",
      "  File \"/Library/Frameworks/Python.framework/Versions/3.11/lib/python3.11/site-packages/ipykernel/kernelbase.py\", line 778, in execute_request\n",
      "    reply_content = await reply_content\n",
      "  File \"/Library/Frameworks/Python.framework/Versions/3.11/lib/python3.11/site-packages/ipykernel/ipkernel.py\", line 449, in do_execute\n",
      "    res = shell.run_cell(\n",
      "  File \"/Library/Frameworks/Python.framework/Versions/3.11/lib/python3.11/site-packages/ipykernel/zmqshell.py\", line 549, in run_cell\n",
      "    return super().run_cell(*args, **kwargs)\n",
      "  File \"/Library/Frameworks/Python.framework/Versions/3.11/lib/python3.11/site-packages/IPython/core/interactiveshell.py\", line 3075, in run_cell\n",
      "    result = self._run_cell(\n",
      "  File \"/Library/Frameworks/Python.framework/Versions/3.11/lib/python3.11/site-packages/IPython/core/interactiveshell.py\", line 3130, in _run_cell\n",
      "    result = runner(coro)\n",
      "  File \"/Library/Frameworks/Python.framework/Versions/3.11/lib/python3.11/site-packages/IPython/core/async_helpers.py\", line 128, in _pseudo_sync_runner\n",
      "    coro.send(None)\n",
      "  File \"/Library/Frameworks/Python.framework/Versions/3.11/lib/python3.11/site-packages/IPython/core/interactiveshell.py\", line 3334, in run_cell_async\n",
      "    has_raised = await self.run_ast_nodes(code_ast.body, cell_name,\n",
      "  File \"/Library/Frameworks/Python.framework/Versions/3.11/lib/python3.11/site-packages/IPython/core/interactiveshell.py\", line 3517, in run_ast_nodes\n",
      "    if await self.run_code(code, result, async_=asy):\n",
      "  File \"/Library/Frameworks/Python.framework/Versions/3.11/lib/python3.11/site-packages/IPython/core/interactiveshell.py\", line 3577, in run_code\n",
      "    exec(code_obj, self.user_global_ns, self.user_ns)\n",
      "  File \"/var/folders/g4/mpm4njl93p547kbhxbvqlm480000gn/T/ipykernel_23541/1201911425.py\", line 3, in <module>\n",
      "    import pandas as pd\n",
      "  File \"/Library/Frameworks/Python.framework/Versions/3.11/lib/python3.11/site-packages/pandas/__init__.py\", line 26, in <module>\n",
      "    from pandas.compat import (\n",
      "  File \"/Library/Frameworks/Python.framework/Versions/3.11/lib/python3.11/site-packages/pandas/compat/__init__.py\", line 27, in <module>\n",
      "    from pandas.compat.pyarrow import (\n",
      "  File \"/Library/Frameworks/Python.framework/Versions/3.11/lib/python3.11/site-packages/pandas/compat/pyarrow.py\", line 8, in <module>\n",
      "    import pyarrow as pa\n",
      "  File \"/Library/Frameworks/Python.framework/Versions/3.11/lib/python3.11/site-packages/pyarrow/__init__.py\", line 65, in <module>\n",
      "    import pyarrow.lib as _lib\n"
     ]
    },
    {
     "ename": "AttributeError",
     "evalue": "_ARRAY_API not found",
     "output_type": "error",
     "traceback": [
      "\u001b[0;31m---------------------------------------------------------------------------\u001b[0m",
      "\u001b[0;31mAttributeError\u001b[0m                            Traceback (most recent call last)",
      "\u001b[0;31mAttributeError\u001b[0m: _ARRAY_API not found"
     ]
    },
    {
     "name": "stderr",
     "output_type": "stream",
     "text": [
      "\n",
      "A module that was compiled using NumPy 1.x cannot be run in\n",
      "NumPy 2.0.2 as it may crash. To support both 1.x and 2.x\n",
      "versions of NumPy, modules must be compiled with NumPy 2.0.\n",
      "Some module may need to rebuild instead e.g. with 'pybind11>=2.12'.\n",
      "\n",
      "If you are a user of the module, the easiest solution will be to\n",
      "downgrade to 'numpy<2' or try to upgrade the affected module.\n",
      "We expect that some modules will need time to support NumPy 2.\n",
      "\n",
      "Traceback (most recent call last):  File \"<frozen runpy>\", line 198, in _run_module_as_main\n",
      "  File \"<frozen runpy>\", line 88, in _run_code\n",
      "  File \"/Library/Frameworks/Python.framework/Versions/3.11/lib/python3.11/site-packages/ipykernel_launcher.py\", line 18, in <module>\n",
      "    app.launch_new_instance()\n",
      "  File \"/Library/Frameworks/Python.framework/Versions/3.11/lib/python3.11/site-packages/traitlets/config/application.py\", line 1075, in launch_instance\n",
      "    app.start()\n",
      "  File \"/Library/Frameworks/Python.framework/Versions/3.11/lib/python3.11/site-packages/ipykernel/kernelapp.py\", line 739, in start\n",
      "    self.io_loop.start()\n",
      "  File \"/Library/Frameworks/Python.framework/Versions/3.11/lib/python3.11/site-packages/tornado/platform/asyncio.py\", line 205, in start\n",
      "    self.asyncio_loop.run_forever()\n",
      "  File \"/Library/Frameworks/Python.framework/Versions/3.11/lib/python3.11/asyncio/base_events.py\", line 608, in run_forever\n",
      "    self._run_once()\n",
      "  File \"/Library/Frameworks/Python.framework/Versions/3.11/lib/python3.11/asyncio/base_events.py\", line 1936, in _run_once\n",
      "    handle._run()\n",
      "  File \"/Library/Frameworks/Python.framework/Versions/3.11/lib/python3.11/asyncio/events.py\", line 84, in _run\n",
      "    self._context.run(self._callback, *self._args)\n",
      "  File \"/Library/Frameworks/Python.framework/Versions/3.11/lib/python3.11/site-packages/ipykernel/kernelbase.py\", line 545, in dispatch_queue\n",
      "    await self.process_one()\n",
      "  File \"/Library/Frameworks/Python.framework/Versions/3.11/lib/python3.11/site-packages/ipykernel/kernelbase.py\", line 534, in process_one\n",
      "    await dispatch(*args)\n",
      "  File \"/Library/Frameworks/Python.framework/Versions/3.11/lib/python3.11/site-packages/ipykernel/kernelbase.py\", line 437, in dispatch_shell\n",
      "    await result\n",
      "  File \"/Library/Frameworks/Python.framework/Versions/3.11/lib/python3.11/site-packages/ipykernel/ipkernel.py\", line 362, in execute_request\n",
      "    await super().execute_request(stream, ident, parent)\n",
      "  File \"/Library/Frameworks/Python.framework/Versions/3.11/lib/python3.11/site-packages/ipykernel/kernelbase.py\", line 778, in execute_request\n",
      "    reply_content = await reply_content\n",
      "  File \"/Library/Frameworks/Python.framework/Versions/3.11/lib/python3.11/site-packages/ipykernel/ipkernel.py\", line 449, in do_execute\n",
      "    res = shell.run_cell(\n",
      "  File \"/Library/Frameworks/Python.framework/Versions/3.11/lib/python3.11/site-packages/ipykernel/zmqshell.py\", line 549, in run_cell\n",
      "    return super().run_cell(*args, **kwargs)\n",
      "  File \"/Library/Frameworks/Python.framework/Versions/3.11/lib/python3.11/site-packages/IPython/core/interactiveshell.py\", line 3075, in run_cell\n",
      "    result = self._run_cell(\n",
      "  File \"/Library/Frameworks/Python.framework/Versions/3.11/lib/python3.11/site-packages/IPython/core/interactiveshell.py\", line 3130, in _run_cell\n",
      "    result = runner(coro)\n",
      "  File \"/Library/Frameworks/Python.framework/Versions/3.11/lib/python3.11/site-packages/IPython/core/async_helpers.py\", line 128, in _pseudo_sync_runner\n",
      "    coro.send(None)\n",
      "  File \"/Library/Frameworks/Python.framework/Versions/3.11/lib/python3.11/site-packages/IPython/core/interactiveshell.py\", line 3334, in run_cell_async\n",
      "    has_raised = await self.run_ast_nodes(code_ast.body, cell_name,\n",
      "  File \"/Library/Frameworks/Python.framework/Versions/3.11/lib/python3.11/site-packages/IPython/core/interactiveshell.py\", line 3517, in run_ast_nodes\n",
      "    if await self.run_code(code, result, async_=asy):\n",
      "  File \"/Library/Frameworks/Python.framework/Versions/3.11/lib/python3.11/site-packages/IPython/core/interactiveshell.py\", line 3577, in run_code\n",
      "    exec(code_obj, self.user_global_ns, self.user_ns)\n",
      "  File \"/var/folders/g4/mpm4njl93p547kbhxbvqlm480000gn/T/ipykernel_23541/1201911425.py\", line 3, in <module>\n",
      "    import pandas as pd\n",
      "  File \"/Library/Frameworks/Python.framework/Versions/3.11/lib/python3.11/site-packages/pandas/__init__.py\", line 49, in <module>\n",
      "    from pandas.core.api import (\n",
      "  File \"/Library/Frameworks/Python.framework/Versions/3.11/lib/python3.11/site-packages/pandas/core/api.py\", line 9, in <module>\n",
      "    from pandas.core.dtypes.dtypes import (\n",
      "  File \"/Library/Frameworks/Python.framework/Versions/3.11/lib/python3.11/site-packages/pandas/core/dtypes/dtypes.py\", line 24, in <module>\n",
      "    from pandas._libs import (\n",
      "  File \"/Library/Frameworks/Python.framework/Versions/3.11/lib/python3.11/site-packages/pyarrow/__init__.py\", line 65, in <module>\n",
      "    import pyarrow.lib as _lib\n"
     ]
    },
    {
     "ename": "AttributeError",
     "evalue": "_ARRAY_API not found",
     "output_type": "error",
     "traceback": [
      "\u001b[0;31m---------------------------------------------------------------------------\u001b[0m",
      "\u001b[0;31mAttributeError\u001b[0m                            Traceback (most recent call last)",
      "\u001b[0;31mAttributeError\u001b[0m: _ARRAY_API not found"
     ]
    }
   ],
   "source": [
    "import asyncio\n",
    "import requests\n",
    "import pandas as pd\n",
    "import numpy as np\n",
    "import nest_asyncio; nest_asyncio.apply()\n",
    "from datetime import datetime as dt, date as d, timedelta\n",
    "from functions.divide_chunks import divide_chunks\n",
    "from math import ceil\n",
    "\n",
    "start = dt.now()\n",
    "# последний день месяца\n",
    "REPORT_DATE = pd.to_datetime(d.today() - timedelta(days=28) + pd.offsets.MonthEnd(n=1))\n",
    "REPORT_DATE_STR = REPORT_DATE.strftime(\"%Y-%m-%d\")\n",
    "# увеличиваем количество столбцов и строк для просмотра\n",
    "pd.set_option('display.max_rows', 200, 'display.max_columns', 200)"
   ]
  },
  {
   "cell_type": "code",
   "execution_count": 2,
   "id": "4060e8f4-a402-426f-8d51-46e22f0e15b1",
   "metadata": {},
   "outputs": [
    {
     "name": "stdout",
     "output_type": "stream",
     "text": [
      "Getting token started\n",
      "Getting token finished\n"
     ]
    }
   ],
   "source": [
    "from rudata.RuDataDF import RuDataDF\n",
    "from rudata.RuDataRequest import RuDataRequest\n",
    "RuDataRequest.set_headers()"
   ]
  },
  {
   "cell_type": "code",
   "execution_count": 3,
   "id": "a27a5e43-29c9-400e-818b-c39fea88f4b4",
   "metadata": {},
   "outputs": [],
   "source": [
    "month_year = REPORT_DATE.strftime(\"%m.%Y\")\n",
    "isin_file = f\"ISIN_{month_year}.xlsx\"\n",
    "Prices = pd.read_excel(f\"./data/Input/{isin_file}\", names=[\"ISIN\"]).dropna().set_index(\"ISIN\")\n",
    "Prices[\"Date\"] = REPORT_DATE\n",
    "Prices[[\"Name\", \"Type\", \"Principal\", \"Currency\", \"Clean price pct\", \"Clean price\", \"Interest\", \"Price\", \n",
    "        \"Source\", \"ISIN in DB\", \"FX Rate\", \"RUB Price\", \"CBR discount 6D\", \"Discount NCC\", \"NCC collateral\"]] = np.nan"
   ]
  },
  {
   "cell_type": "code",
   "execution_count": 7,
   "id": "0181dda9-e3d2-4e1b-b976-4dde3e8be3e4",
   "metadata": {},
   "outputs": [
    {
     "name": "stdout",
     "output_type": "stream",
     "text": [
      "/Library/Frameworks/Python.framework/Versions/3.11/lib/python3.11/site-packages/certifi/cacert.pem\n"
     ]
    }
   ],
   "source": [
    "import certifi\n",
    "print(certifi.where())"
   ]
  },
  {
   "cell_type": "code",
   "execution_count": 5,
   "id": "02c27989-6648-4333-8d71-1e5431bd5e83",
   "metadata": {},
   "outputs": [
    {
     "name": "stdout",
     "output_type": "stream",
     "text": [
      "Collecting certifi\n",
      "  Using cached certifi-2024.8.30-py3-none-any.whl (167 kB)\n",
      "Installing collected packages: certifi\n",
      "Successfully installed certifi-2024.8.30\n",
      "\n",
      "\u001b[1m[\u001b[0m\u001b[34;49mnotice\u001b[0m\u001b[1;39;49m]\u001b[0m\u001b[39;49m A new release of pip is available: \u001b[0m\u001b[31;49m23.0.1\u001b[0m\u001b[39;49m -> \u001b[0m\u001b[32;49m24.2\u001b[0m\n",
      "\u001b[1m[\u001b[0m\u001b[34;49mnotice\u001b[0m\u001b[1;39;49m]\u001b[0m\u001b[39;49m To update, run: \u001b[0m\u001b[32;49mpip install --upgrade pip\u001b[0m\n"
     ]
    }
   ],
   "source": [
    "!python3 -m pip install --upgrade certifi"
   ]
  },
  {
   "cell_type": "code",
   "execution_count": 6,
   "id": "9bb8534e-19b0-4f33-8f5e-547c6af564a7",
   "metadata": {},
   "outputs": [
    {
     "name": "stdout",
     "output_type": "stream",
     "text": [
      "Python 3.8.20\n"
     ]
    }
   ],
   "source": [
    "!python3 -V"
   ]
  },
  {
   "cell_type": "markdown",
   "id": "1d71d26b-fc1d-4cd2-a0dd-12f93a99326a",
   "metadata": {},
   "source": [
    "#### Шаг 1. RuData"
   ]
  },
  {
   "cell_type": "markdown",
   "id": "6b10ea87-fc49-4412-afac-cebe2af7e264",
   "metadata": {},
   "source": [
    "##### Шаг 1.0. RuData stage"
   ]
  },
  {
   "cell_type": "code",
   "execution_count": 3,
   "id": "3df8953c-99e1-44ee-aea3-3cca025534a7",
   "metadata": {
    "scrolled": true
   },
   "outputs": [
    {
     "name": "stdout",
     "output_type": "stream",
     "text": [
      "FintoolReferenceData started\n",
      "post start\n",
      "post start\n",
      "post start\n",
      "post start\n",
      "post start\n",
      "Exception raised in FintoolReferenceData.\n",
      "Cannot connect to host dh2.efir-net.ru:443 ssl:True [SSLCertVerificationError: (1, '[SSL: CERTIFICATE_VERIFY_FAILED] certificate verify failed: unable to get local issuer certificate (_ssl.c:1006)')]\n",
      "Retry\n",
      "Traceback (most recent call last):\n",
      "  File \"/Library/Frameworks/Python.framework/Versions/3.11/lib/python3.11/site-packages/aiohttp/connector.py\", line 1080, in _wrap_create_connection\n",
      "    return await self._loop.create_connection(*args, **kwargs, sock=sock)\n",
      "           ^^^^^^^^^^^^^^^^^^^^^^^^^^^^^^^^^^^^^^^^^^^^^^^^^^^^^^^^^^^^^^\n",
      "  File \"/Library/Frameworks/Python.framework/Versions/3.11/lib/python3.11/asyncio/base_events.py\", line 1113, in create_connection\n",
      "    transport, protocol = await self._create_connection_transport(\n",
      "                          ^^^^^^^^^^^^^^^^^^^^^^^^^^^^^^^^^^^^^^^^\n",
      "  File \"/Library/Frameworks/Python.framework/Versions/3.11/lib/python3.11/asyncio/base_events.py\", line 1146, in _create_connection_transport\n",
      "    await waiter\n",
      "  File \"/Library/Frameworks/Python.framework/Versions/3.11/lib/python3.11/asyncio/futures.py\", line 287, in __await__\n",
      "    yield self  # This tells Task to wait for completion.\n",
      "    ^^^^^^^^^^\n",
      "  File \"/Library/Frameworks/Python.framework/Versions/3.11/lib/python3.11/asyncio/tasks.py\", line 349, in __wakeup\n",
      "    future.result()\n",
      "  File \"/Library/Frameworks/Python.framework/Versions/3.11/lib/python3.11/asyncio/futures.py\", line 203, in result\n",
      "    raise self._exception.with_traceback(self._exception_tb)\n",
      "  File \"/Library/Frameworks/Python.framework/Versions/3.11/lib/python3.11/asyncio/sslproto.py\", line 578, in _on_handshake_complete\n",
      "    raise handshake_exc\n",
      "  File \"/Library/Frameworks/Python.framework/Versions/3.11/lib/python3.11/asyncio/sslproto.py\", line 560, in _do_handshake\n",
      "    self._sslobj.do_handshake()\n",
      "  File \"/Library/Frameworks/Python.framework/Versions/3.11/lib/python3.11/ssl.py\", line 979, in do_handshake\n",
      "    self._sslobj.do_handshake()\n",
      "ssl.SSLCertVerificationError: [SSL: CERTIFICATE_VERIFY_FAILED] certificate verify failed: unable to get local issuer certificate (_ssl.c:1006)\n",
      "\n",
      "The above exception was the direct cause of the following exception:\n",
      "\n",
      "Traceback (most recent call last):\n",
      "  File \"/Users/alexander/PycharmProjects/insurance_mine/logger/Logger.py\", line 59, in wrapper\n",
      "    result: DataFrame = func(*args, **kwargs)\n",
      "                        ^^^^^^^^^^^^^^^^^^^^^\n",
      "  File \"/Users/alexander/PycharmProjects/insurance_mine/rudata/RuDataDF.py\", line 153, in df\n",
      "    self._df: pd.DataFrame = asyncio.run(self._get_df())\n",
      "                             ^^^^^^^^^^^^^^^^^^^^^^^^^^^\n",
      "  File \"/Library/Frameworks/Python.framework/Versions/3.11/lib/python3.11/site-packages/nest_asyncio.py\", line 30, in run\n",
      "    return loop.run_until_complete(task)\n",
      "           ^^^^^^^^^^^^^^^^^^^^^^^^^^^^^\n",
      "  File \"/Library/Frameworks/Python.framework/Versions/3.11/lib/python3.11/site-packages/nest_asyncio.py\", line 98, in run_until_complete\n",
      "    return f.result()\n",
      "           ^^^^^^^^^^\n",
      "  File \"/Library/Frameworks/Python.framework/Versions/3.11/lib/python3.11/asyncio/futures.py\", line 203, in result\n",
      "    raise self._exception.with_traceback(self._exception_tb)\n",
      "  File \"/Library/Frameworks/Python.framework/Versions/3.11/lib/python3.11/asyncio/tasks.py\", line 277, in __step\n",
      "    result = coro.send(None)\n",
      "             ^^^^^^^^^^^^^^^\n",
      "  File \"/Users/alexander/PycharmProjects/insurance_mine/rudata/RuDataDF.py\", line 125, in _get_df\n",
      "    asyncio.run(create_execute_tasks(payloads))\n",
      "  File \"/Library/Frameworks/Python.framework/Versions/3.11/lib/python3.11/site-packages/nest_asyncio.py\", line 30, in run\n",
      "    return loop.run_until_complete(task)\n",
      "           ^^^^^^^^^^^^^^^^^^^^^^^^^^^^^\n",
      "  File \"/Library/Frameworks/Python.framework/Versions/3.11/lib/python3.11/site-packages/nest_asyncio.py\", line 98, in run_until_complete\n",
      "    return f.result()\n",
      "           ^^^^^^^^^^\n",
      "  File \"/Library/Frameworks/Python.framework/Versions/3.11/lib/python3.11/asyncio/futures.py\", line 203, in result\n",
      "    raise self._exception.with_traceback(self._exception_tb)\n",
      "  File \"/Library/Frameworks/Python.framework/Versions/3.11/lib/python3.11/asyncio/tasks.py\", line 277, in __step\n",
      "    result = coro.send(None)\n",
      "             ^^^^^^^^^^^^^^^\n",
      "  File \"/Users/alexander/PycharmProjects/insurance_mine/rudata/RuDataDF.py\", line 78, in create_execute_tasks\n",
      "    resAll: List[List[dict]] = [await task for task in asyncio.as_completed(tasks, timeout=600)]\n",
      "                               ^^^^^^^^^^^^^^^^^^^^^^^^^^^^^^^^^^^^^^^^^^^^^^^^^^^^^^^^^^^^^^^^^\n",
      "  File \"/Users/alexander/PycharmProjects/insurance_mine/rudata/RuDataDF.py\", line 78, in <listcomp>\n",
      "    resAll: List[List[dict]] = [await task for task in asyncio.as_completed(tasks, timeout=600)]\n",
      "                                ^^^^^^^^^^\n",
      "  File \"/Library/Frameworks/Python.framework/Versions/3.11/lib/python3.11/asyncio/tasks.py\", line 615, in _wait_for_one\n",
      "    return f.result()  # May raise f.exception().\n",
      "           ^^^^^^^^^^\n",
      "  File \"/Library/Frameworks/Python.framework/Versions/3.11/lib/python3.11/asyncio/futures.py\", line 203, in result\n",
      "    raise self._exception.with_traceback(self._exception_tb)\n",
      "  File \"/Library/Frameworks/Python.framework/Versions/3.11/lib/python3.11/asyncio/tasks.py\", line 279, in __step\n",
      "    result = coro.throw(exc)\n",
      "             ^^^^^^^^^^^^^^^\n",
      "  File \"/Users/alexander/PycharmProjects/insurance_mine/rudata/RuDataRequest.py\", line 36, in post\n",
      "    async with RuDataRequest.semaphore, self.session.post(\n",
      "  File \"/Library/Frameworks/Python.framework/Versions/3.11/lib/python3.11/site-packages/aiohttp/client.py\", line 1353, in __aenter__\n",
      "    self._resp = await self._coro\n",
      "                 ^^^^^^^^^^^^^^^^\n",
      "  File \"/Library/Frameworks/Python.framework/Versions/3.11/lib/python3.11/site-packages/aiohttp/client.py\", line 657, in _request\n",
      "    conn = await self._connector.connect(\n",
      "           ^^^^^^^^^^^^^^^^^^^^^^^^^^^^^^\n",
      "  File \"/Library/Frameworks/Python.framework/Versions/3.11/lib/python3.11/site-packages/aiohttp/connector.py\", line 564, in connect\n",
      "    proto = await self._create_connection(req, traces, timeout)\n",
      "            ^^^^^^^^^^^^^^^^^^^^^^^^^^^^^^^^^^^^^^^^^^^^^^^^^^^\n",
      "  File \"/Library/Frameworks/Python.framework/Versions/3.11/lib/python3.11/site-packages/aiohttp/connector.py\", line 975, in _create_connection\n",
      "    _, proto = await self._create_direct_connection(req, traces, timeout)\n",
      "               ^^^^^^^^^^^^^^^^^^^^^^^^^^^^^^^^^^^^^^^^^^^^^^^^^^^^^^^^^^\n",
      "  File \"/Library/Frameworks/Python.framework/Versions/3.11/lib/python3.11/site-packages/aiohttp/connector.py\", line 1350, in _create_direct_connection\n",
      "    raise last_exc\n",
      "  File \"/Library/Frameworks/Python.framework/Versions/3.11/lib/python3.11/site-packages/aiohttp/connector.py\", line 1319, in _create_direct_connection\n",
      "    transp, proto = await self._wrap_create_connection(\n",
      "                    ^^^^^^^^^^^^^^^^^^^^^^^^^^^^^^^^^^^\n",
      "  File \"/Library/Frameworks/Python.framework/Versions/3.11/lib/python3.11/site-packages/aiohttp/connector.py\", line 1082, in _wrap_create_connection\n",
      "    raise ClientConnectorCertificateError(req.connection_key, exc) from exc\n",
      "aiohttp.client_exceptions.ClientConnectorCertificateError: Cannot connect to host dh2.efir-net.ru:443 ssl:True [SSLCertVerificationError: (1, '[SSL: CERTIFICATE_VERIFY_FAILED] certificate verify failed: unable to get local issuer certificate (_ssl.c:1006)')]\n"
     ]
    },
    {
     "name": "stderr",
     "output_type": "stream",
     "text": [
      "\n",
      "KeyboardInterrupt\n",
      "\n"
     ]
    }
   ],
   "source": [
    "FintoolReferenceData = RuDataDF(\"FintoolReferenceData\").df\n",
    "FintoolReferenceData.head()"
   ]
  },
  {
   "cell_type": "code",
   "execution_count": null,
   "id": "4de5a375-ecc7-481c-9745-9286381abef6",
   "metadata": {
    "scrolled": true
   },
   "outputs": [],
   "source": [
    "AccruedInterestOnDate = RuDataDF(\"AccruedInterestOnDate\").df\n",
    "AccruedInterestOnDate.head()"
   ]
  },
  {
   "cell_type": "code",
   "execution_count": null,
   "id": "0f210293-2d4a-41a4-8144-f4d0f7528a3c",
   "metadata": {
    "scrolled": true
   },
   "outputs": [],
   "source": [
    "RUPriceHistory = RuDataDF(\"RUPriceHistory\").df\n",
    "RUPriceHistory.shape"
   ]
  },
  {
   "cell_type": "code",
   "execution_count": null,
   "id": "4acfae9c-0827-48c3-9675-eab130ac8559",
   "metadata": {
    "scrolled": true
   },
   "outputs": [],
   "source": [
    "ExchangeTree = RuDataDF(\"ExchangeTree\").df\n",
    "ExchangeTree.head()"
   ]
  },
  {
   "cell_type": "code",
   "execution_count": null,
   "id": "ee8fd42d-a34f-4b1a-a26e-1ff5d4265fe1",
   "metadata": {
    "scrolled": true
   },
   "outputs": [],
   "source": [
    "MoexSecurities = RuDataDF(\"MoexSecurities\").df\n",
    "MoexSecurities.head()"
   ]
  },
  {
   "cell_type": "code",
   "execution_count": null,
   "id": "fc20c5af-8964-4655-b3b5-d72adb97aaf4",
   "metadata": {
    "scrolled": true
   },
   "outputs": [],
   "source": [
    "%%time\n",
    "import aiohttp\n",
    "import socket\n",
    "from typing import List, Union, Optional, Dict, Any\n",
    "from rudata import DocsAPI\n",
    "\n",
    "isins = Prices[Prices[\"Price\"].isna()].index.unique().tolist()\n",
    "key = \"EndOfDay\"\n",
    "url: str = getattr(DocsAPI, key).url\n",
    "payload: Dict[str, Any] = getattr(DocsAPI, key)().payload()\n",
    "payloads = []\n",
    "for isin in isins:\n",
    "    payload[\"isin\"] = isin\n",
    "    payloads.append(payload.copy())\n",
    "    \n",
    "async def end_of_day_rudata():\n",
    "    end_of_day = []\n",
    "    async with aiohttp.ClientSession(\n",
    "            connector=aiohttp.TCPConnector(limit=DocsAPI.LIMIT,\n",
    "                                           family=socket.AF_INET),\n",
    "            trust_env=True,\n",
    "            timeout=aiohttp.ClientTimeout(3600)\n",
    "    ) as session:\n",
    "        for i, chunk in enumerate(divide_chunks(payloads, DocsAPI.LIMIT)):\n",
    "            tasks: List[asyncio.Task] = [asyncio.create_task(\n",
    "                RuDataRequest(url, session).post(payload=payload)\n",
    "            ) for payload in chunk]\n",
    "            resAll: List[List[dict]] = [await task for task in asyncio.as_completed(tasks, timeout=600)]\n",
    "            result: List[dict] = [row for task_res in resAll for row in task_res]\n",
    "            end_of_day.extend(result)\n",
    "    return end_of_day\n",
    "    \n",
    "end_of_day = asyncio.run(end_of_day_rudata())\n",
    "EndOfDay = pd.DataFrame(end_of_day)\n",
    "EndOfDay.head()"
   ]
  },
  {
   "cell_type": "code",
   "execution_count": null,
   "id": "567501bb-451f-4699-9515-16c545dc2c73",
   "metadata": {
    "scrolled": true
   },
   "outputs": [],
   "source": [
    "%%time\n",
    "import aiohttp\n",
    "import socket\n",
    "from typing import List, Union, Optional, Dict, Any\n",
    "from rudata import DocsAPI\n",
    "from time import sleep\n",
    "\n",
    "currencies = pd.read_csv(\"./data/Input/currencies.csv\", header=0, encoding='cp1251', sep=';', usecols=[\"Currency\"])[\"Currency\"].tolist()\n",
    "key = \"CurrencyRate\"\n",
    "url: str = getattr(DocsAPI, key).url\n",
    "payload: Dict[str, Any] = getattr(DocsAPI, key)().payload()\n",
    "currencies_rudata = []\n",
    "for currency in currencies:\n",
    "    payload[\"from\"] = currency\n",
    "    ans = requests.post(url, json={'from': currency, 'to': 'RUB', 'date': REPORT_DATE_STR}, headers=RuDataRequest.headers)\n",
    "    result: dict = ans.json()\n",
    "    result[\"currency\"] = currency\n",
    "    currencies_rudata.append(result)\n",
    "    sleep(1)\n",
    "CurrencyRate = pd.DataFrame(currencies_rudata)\n",
    "CurrencyRate.head()"
   ]
  },
  {
   "cell_type": "markdown",
   "id": "1cc7b099-f7c6-4f9c-bb2f-ca73605ad5d3",
   "metadata": {
    "jp-MarkdownHeadingCollapsed": true
   },
   "source": [
    "##### Шаг 1.1. Discounts"
   ]
  },
  {
   "cell_type": "markdown",
   "id": "9f4b868a-b86c-4f0e-b9f8-66ddd9f128c7",
   "metadata": {
    "jp-MarkdownHeadingCollapsed": true
   },
   "source": [
    "###### Шаг 1.1.1. CBR"
   ]
  },
  {
   "cell_type": "code",
   "execution_count": null,
   "id": "618c6d8a-a335-4799-b451-eab62cb4db8c",
   "metadata": {},
   "outputs": [],
   "source": [
    "from sources.CBR_Soap import CBR_Soap\n",
    "\n",
    "headers = {key: item for key, item in RuDataRequest.headers.items() if key != \"Authorization\"}\n",
    "cbr_disc = CBR_Soap()\\\n",
    ".get_discounts(date=REPORT_DATE_STR)[['ISIN', 'от 1 месяца до 180 дней_Beg']]\\\n",
    ".rename(columns={'от 1 месяца до 180 дней_Beg': 'CBR discount 6D'})\\\n",
    ".set_index('ISIN')"
   ]
  },
  {
   "cell_type": "code",
   "execution_count": null,
   "id": "2b6c43b3-a944-4970-a42d-68947ce563f5",
   "metadata": {},
   "outputs": [],
   "source": [
    "Prices.update(cbr_disc)\n",
    "Prices['CBR discount 6D'] = Prices['CBR discount 6D'].fillna(1)"
   ]
  },
  {
   "cell_type": "markdown",
   "id": "e8b7b0b8-1bcd-4c93-adf6-983f3c250994",
   "metadata": {
    "jp-MarkdownHeadingCollapsed": true
   },
   "source": [
    "###### Шаг 1.1.2. nationalclearingcentre Рыночные риски"
   ]
  },
  {
   "cell_type": "code",
   "execution_count": null,
   "id": "dc9dcfb6-76ae-4c97-823c-381156544e2b",
   "metadata": {},
   "outputs": [],
   "source": [
    "currMarketRatesResponse = requests.get(f'https://www.nationalclearingcentre.ru/api/v1/rates/fondMarketRates?action=xls&xls=1&lang=ru&date={REPORT_DATE.strftime(\"%d.%m.%Y\")}', headers=headers)\n",
    "currMarketRates = pd.read_excel(currMarketRatesResponse.content,header=2)\n",
    "currMarketRates = currMarketRates[(currMarketRates['Диапазон']==1)&(currMarketRates['Ставка риска падения цены,%']!=100)].reset_index(drop=True)\n",
    "currMarketRates = currMarketRates\\\n",
    ".merge(MoexSecurities[['secid', 'isin']], how='left', left_on='Инструмент', right_on='secid')\\\n",
    ".rename(columns={'isin': 'ISIN'})\\\n",
    ".groupby('ISIN')\\\n",
    ".last()\n",
    "currMarketRates = currMarketRates[currMarketRates.index.str.match('([A-Z]{2})([A-Z0-9]{9})([0-9]{1})$')]\n",
    "currMarketRates = currMarketRates[(currMarketRates['Диапазон']==1)&(currMarketRates['Ставка риска падения цены,%']!=100)]\n",
    "currMarketRates=currMarketRates[['Ставка риска падения цены,%']]\\\n",
    ".rename(columns={'Ставка риска падения цены,%': 'Risk rate'})\n",
    "currMarketRates['Discount NCC'] = currMarketRates['Risk rate'].apply(lambda x: min(30, ceil(x/np.sqrt(2)))) #Формула из п.12.1 Методики НКЦ определения риск-параметров\n",
    "currMarketRates /= 100"
   ]
  },
  {
   "cell_type": "code",
   "execution_count": null,
   "id": "75f38adc-cdf8-40e2-b0c5-5d66cce25810",
   "metadata": {},
   "outputs": [],
   "source": [
    "Prices.update(currMarketRates)\n",
    "Prices['Discount NCC'] = Prices['Discount NCC'].fillna(1)"
   ]
  },
  {
   "cell_type": "markdown",
   "id": "b23b45da-8ec0-4c08-919e-7546fcb1a6c7",
   "metadata": {
    "jp-MarkdownHeadingCollapsed": true
   },
   "source": [
    "###### Шаг 1.1.3. nationalclearingcentre Параметры ценных бумаг"
   ]
  },
  {
   "cell_type": "code",
   "execution_count": null,
   "id": "22bf59c3-dc5b-4e71-b117-cc268e884192",
   "metadata": {},
   "outputs": [],
   "source": [
    "securInfoResponse = requests.get(f'https://www.nationalclearingcentre.ru/api/v1/rates/securInfo?action=xls&lang=ru&settleDate={REPORT_DATE.strftime(\"%d.%m.%Y\")}', headers=headers)\n",
    "securInfo = pd.read_excel(securInfoResponse.content, header=2)[['ISIN ЦБ', 'Принимается в обеспеч.']]\\\n",
    ".rename(columns={\n",
    "    'ISIN ЦБ': 'ISIN',\n",
    "    'Принимается в обеспеч.': 'NCC collateral'\n",
    "})\\\n",
    ".dropna()\\\n",
    ".set_index('ISIN')\n",
    "securInfo = securInfo[securInfo['NCC collateral']=='Да']"
   ]
  },
  {
   "cell_type": "code",
   "execution_count": null,
   "id": "dd232694-74fc-42a7-94f0-65f8542eda06",
   "metadata": {},
   "outputs": [],
   "source": [
    "Prices.update(securInfo)\n",
    "Prices['NCC collateral'] = Prices['NCC collateral'].fillna('Нет')"
   ]
  },
  {
   "cell_type": "markdown",
   "id": "ea71630a-a9a0-4b0b-8036-aae3cb37dc2b",
   "metadata": {
    "jp-MarkdownHeadingCollapsed": true
   },
   "source": [
    "##### Шаг 1.2. RuData transform"
   ]
  },
  {
   "cell_type": "code",
   "execution_count": null,
   "id": "16df6e74-771d-48e7-be64-8005d25f5b75",
   "metadata": {},
   "outputs": [],
   "source": [
    "TransformFintoolReferenceData = FintoolReferenceData[['isincode', 'nickname', 'fintooltype', 'fintoolid', 'faceftname']]\\\n",
    ".rename(columns={\n",
    "    \"isincode\": \"ISIN\",\n",
    "    \"nickname\": \"Name\",\n",
    "    \"fintoolid\": \"Fintool\",\n",
    "    \"fintooltype\": \"Type\", \n",
    "    \"faceftname\": \"Currency\"\n",
    "})\n",
    "TransformFintoolReferenceData[\"ISIN in DB\"] = 1\n",
    "TransformFintoolReferenceData[\"Source\"] = 'RU Data (ЦЦ НРД)'\n",
    "TransformFintoolReferenceData = TransformFintoolReferenceData.merge(\n",
    "    AccruedInterestOnDate[['fintoolId', 'accruedInterest', 'currentFaceValue']], how=\"left\", left_on=\"Fintool\", right_on=\"fintoolId\")\n",
    "TransformFintoolReferenceData = TransformFintoolReferenceData\\\n",
    ".rename(columns={\n",
    "    'accruedInterest': 'Interest', \n",
    "    'currentFaceValue': 'Principal'})\\\n",
    ".drop(columns=[\"fintoolId\"])"
   ]
  },
  {
   "cell_type": "code",
   "execution_count": null,
   "id": "f687930a-0875-4a24-9f60-35687f0bdbaf",
   "metadata": {},
   "outputs": [],
   "source": [
    "RUPriceHistoryLast = RUPriceHistory.groupby('isincode').last().rename(columns={\n",
    "    'vp_pct': 'Clean price pct', \n",
    "    'vp_pc': 'Clean price',\n",
    "    'acc_int': 'InterestHistory'\n",
    "}).reset_index()"
   ]
  },
  {
   "cell_type": "code",
   "execution_count": null,
   "id": "b82ea02f-2567-4fd4-97e1-891bc3ac39f2",
   "metadata": {},
   "outputs": [],
   "source": [
    "TransformFintoolReferenceData = TransformFintoolReferenceData.merge(\n",
    "    RUPriceHistoryLast[['isincode', 'Clean price pct', 'Clean price', 'InterestHistory']], how='left', left_on=\"ISIN\", right_on=\"isincode\"\n",
    ").drop(columns=[\"isincode\"])\n",
    "TransformFintoolReferenceData[\"Interest\"] = TransformFintoolReferenceData[\"Interest\"].combine_first(TransformFintoolReferenceData[\"InterestHistory\"])\n",
    "TransformFintoolReferenceData[\"Interest\"].fillna(0, inplace=True)\n",
    "TransformFintoolReferenceData.drop(columns=\"InterestHistory\", inplace=True)"
   ]
  },
  {
   "cell_type": "code",
   "execution_count": null,
   "id": "1fbdfd09-99fc-452f-a2c8-750274da717f",
   "metadata": {},
   "outputs": [],
   "source": [
    "bonds_index = TransformFintoolReferenceData[TransformFintoolReferenceData[\"Type\"]=='Облигация'].index"
   ]
  },
  {
   "cell_type": "code",
   "execution_count": null,
   "id": "e49019f5-959e-4f92-9d40-01fb6652e89b",
   "metadata": {},
   "outputs": [],
   "source": [
    "TransformFintoolReferenceData.loc[TransformFintoolReferenceData.index.isin(bonds_index), \"Price\"] = \\\n",
    "TransformFintoolReferenceData.loc[TransformFintoolReferenceData.index.isin(bonds_index), \"Clean price\"] + \\\n",
    "TransformFintoolReferenceData.loc[TransformFintoolReferenceData.index.isin(bonds_index), \"Interest\"]\n",
    "\n",
    "TransformFintoolReferenceData.loc[~TransformFintoolReferenceData.index.isin(bonds_index), \"Price\"] = \\\n",
    "TransformFintoolReferenceData.loc[~TransformFintoolReferenceData.index.isin(bonds_index), \"Clean price\"]"
   ]
  },
  {
   "cell_type": "code",
   "execution_count": null,
   "id": "95afcc09-5aee-4ddd-9843-63e10cc7f818",
   "metadata": {},
   "outputs": [],
   "source": [
    "Prices.update(TransformFintoolReferenceData.groupby(\"ISIN\").first())"
   ]
  },
  {
   "cell_type": "code",
   "execution_count": null,
   "id": "e5cc5160-8ec6-4d54-94a3-77d59e230f7e",
   "metadata": {},
   "outputs": [],
   "source": [
    "exch_prices = EndOfDay.merge(\n",
    "    ExchangeTree[['id', 'fullname_rus']], how='left', left_on='id_trade_site', right_on='id')[['fintoolId', 'last', 'fullname_rus']]\n",
    "exch_prices[\"Source\"] = exch_prices['fullname_rus'].apply(lambda x: 'RU Data (' + str(x) + ')')\n",
    "exch_prices = exch_prices\\\n",
    ".rename(columns={\n",
    "    'fintoolId': 'Fintool',\n",
    "    'last': 'PriceEX'\n",
    "})\\\n",
    ".drop(columns=\"fullname_rus\")\n",
    "exch_prices = exch_prices.merge(TransformFintoolReferenceData[[\"Fintool\", \"ISIN\", \"Type\", \"Principal\", \"Interest\"]], how='inner')"
   ]
  },
  {
   "cell_type": "code",
   "execution_count": null,
   "id": "a09d5e92-14e3-494b-a84f-a20faa75ed78",
   "metadata": {},
   "outputs": [],
   "source": [
    "exch_bonds = exch_prices[exch_prices['Type']=='Облигация']\n",
    "exch_bonds[\"Clean price pct\"] = exch_bonds[\"PriceEX\"]\n",
    "exch_bonds[\"Clean price\"] = exch_bonds[\"Clean price pct\"]/100 * exch_bonds[\"Principal\"]\n",
    "exch_bonds[\"Price\"] = exch_bonds[\"Clean price\"] + exch_bonds[\"Interest\"]"
   ]
  },
  {
   "cell_type": "code",
   "execution_count": null,
   "id": "d2ea7332-6a89-40d8-9c23-b70b04404b6d",
   "metadata": {},
   "outputs": [],
   "source": [
    "exch_not_bonds = exch_prices[exch_prices['Type']!='Облигация']\n",
    "exch_not_bonds['Clean price'] = exch_not_bonds['PriceEX']\n",
    "exch_not_bonds['Price'] = exch_not_bonds['PriceEX']"
   ]
  },
  {
   "cell_type": "code",
   "execution_count": null,
   "id": "8a58d9d6-8331-4bc5-940f-140bacfed2a8",
   "metadata": {},
   "outputs": [],
   "source": [
    "Prices.update(exch_bonds.set_index(\"ISIN\"))\n",
    "Prices.update(exch_not_bonds.set_index(\"ISIN\"))"
   ]
  },
  {
   "cell_type": "code",
   "execution_count": null,
   "id": "6edee542-5ea9-4423-b626-cfd586504b33",
   "metadata": {},
   "outputs": [],
   "source": [
    "ResultPrices = Prices[~Prices['Price'].isna()]\n",
    "Prices = Prices[Prices['Price'].isna()]"
   ]
  },
  {
   "cell_type": "markdown",
   "id": "49991155-6070-4447-8718-e085aa68527c",
   "metadata": {
    "jp-MarkdownHeadingCollapsed": true
   },
   "source": [
    "#### Шаг 2. Cbonds"
   ]
  },
  {
   "cell_type": "markdown",
   "id": "ffc59deb-e9a1-4b97-a127-038904217d6f",
   "metadata": {
    "jp-MarkdownHeadingCollapsed": true
   },
   "source": [
    "##### Шаг 2.1. Bonds"
   ]
  },
  {
   "cell_type": "code",
   "execution_count": null,
   "id": "b1424db6-ca8a-45b5-ad92-4ab53fbfd15a",
   "metadata": {},
   "outputs": [],
   "source": [
    "tradings_bonds = pd.read_excel(f'./data/Input/tradings_bonds.xls')\n",
    "tradings_bonds_1 = pd.read_excel(f'./data/Input/tradings_bonds_1.xls')\n",
    "\n",
    "tradings_bonds = pd.concat([tradings_bonds, tradings_bonds_1], axis=0)\n",
    "tradings_bonds = tradings_bonds[['ISIN', 'Краткое название эмитента (rus)', 'Валюта', 'Индикативная цена', 'Номинал по еврооблигациям']]\\\n",
    ".rename(columns={\n",
    "    'Краткое название эмитента (rus)': 'Name', \n",
    "    'Валюта': 'Currency', \n",
    "    'Индикативная цена': 'Clean price pct', \n",
    "    'Номинал по еврооблигациям': 'Principal EB'\n",
    "})"
   ]
  },
  {
   "cell_type": "code",
   "execution_count": null,
   "id": "4dcc1e74-7a0e-4772-b2ac-ec4d353016d7",
   "metadata": {},
   "outputs": [],
   "source": [
    "tradings_bonds = tradings_bonds.merge(Prices[[\"Interest\", \"Principal\"]], how='inner', left_on=\"ISIN\", right_index=True)\n",
    "principal_idx = tradings_bonds[tradings_bonds['Principal']>tradings_bonds['Principal EB']].index\n",
    "tradings_bonds.loc[principal_idx, 'Principal'] /= tradings_bonds.loc[principal_idx, 'Principal EB']\n",
    "tradings_bonds.loc[principal_idx, 'Interest'] /= tradings_bonds.loc[principal_idx, 'Principal']"
   ]
  },
  {
   "cell_type": "code",
   "execution_count": null,
   "id": "3ade7640-feb7-4f85-be14-d3ca2ac9e4d4",
   "metadata": {},
   "outputs": [],
   "source": [
    "Prices.update(tradings_bonds.set_index(\"ISIN\"))"
   ]
  },
  {
   "cell_type": "code",
   "execution_count": null,
   "id": "cb08c652-ebaa-4bab-bc84-e64aa755499e",
   "metadata": {},
   "outputs": [],
   "source": [
    "tradings_nkd = pd.read_excel(f'./data/Input/tradings_nkd.xls')\n",
    "tradings_nkd_1 = pd.read_excel(f'./data/Input/tradings_nkd_1.xls')\n",
    "tradings_nkd_2 = pd.read_excel(f'./data/Input/tradings_nkd_2.xls')\n",
    "tradings_nkd_3 = pd.read_excel(f'./data/Input/tradings_nkd_3.xls')\n",
    "\n",
    "tradings_nkd = pd.concat([tradings_nkd, tradings_nkd_1, tradings_nkd_2, tradings_nkd_3], axis=0)\n",
    "tradings_nkd = tradings_nkd[['ISIN код эмиссии', 'Накопленный купонный доход', 'Непогашенный номинал']]\\\n",
    ".rename(columns={\n",
    "    'ISIN код эмиссии': \"ISIN\", \n",
    "    'Накопленный купонный доход': \"Interest\", \n",
    "    'Непогашенный номинал': \"Principal\"\n",
    "})\n",
    "tradings_nkd = tradings_nkd.groupby(\"ISIN\").first()"
   ]
  },
  {
   "cell_type": "code",
   "execution_count": null,
   "id": "7701fc8e-fda9-422f-8865-591c3c77432e",
   "metadata": {},
   "outputs": [],
   "source": [
    "Prices.update(tradings_nkd)"
   ]
  },
  {
   "cell_type": "code",
   "execution_count": null,
   "id": "eddd9ac8-0eac-4a5c-ab69-cfd766e534d6",
   "metadata": {},
   "outputs": [],
   "source": [
    "tradings_new = pd.read_excel(f'./data/Input/tradings_new_{REPORT_DATE_STR}.xls')\n",
    "\n",
    "tradings_new = tradings_new[['Код ISIN', 'Эмиссия', 'Дата', 'Bid, закр.', 'НКД']]\\\n",
    ".rename(columns={\n",
    "    'Код ISIN': 'ISIN',\n",
    "    'Эмиссия': 'Name',\n",
    "    'Дата': 'Date',\n",
    "    'Bid, закр.': 'Clean price pct',\n",
    "    'НКД': 'Interest'\n",
    "})\n",
    "tradings_new[\"Max date\"] = tradings_new.groupby('ISIN')[\"Date\"].transform('max')\n",
    "tradings_new = tradings_new.groupby('ISIN').first()"
   ]
  },
  {
   "cell_type": "code",
   "execution_count": null,
   "id": "fd04fed7-9822-4fa5-9b67-0405e029a980",
   "metadata": {},
   "outputs": [],
   "source": [
    "emissions = pd.read_excel(f'./data/Input/emissions_{REPORT_DATE_STR}.xls')\n",
    "\n",
    "emissions = emissions[['Валюта', 'код ISIN', 'Непогашенный номинал']]\\\n",
    ".rename(columns={\n",
    "    'код ISIN': 'ISIN',\n",
    "    'Валюта': 'Currency',\n",
    "    'Непогашенный номинал': 'Principal'\n",
    "})\n",
    "emissions = emissions[~((emissions[\"ISIN\"].isna()) | (emissions[\"Principal\"].isna()) | (emissions[\"Principal\"]==0))].set_index(\"ISIN\")\n",
    "tradings_new = tradings_new.merge(emissions, how=\"left\", left_index=True, right_index=True)"
   ]
  },
  {
   "cell_type": "code",
   "execution_count": null,
   "id": "88ea4445-a22b-4709-b28a-07cb96bf589b",
   "metadata": {},
   "outputs": [],
   "source": [
    "Prices.update(tradings_new)"
   ]
  },
  {
   "cell_type": "code",
   "execution_count": null,
   "id": "2341d517-7d2b-47ca-8d03-1450db536146",
   "metadata": {},
   "outputs": [],
   "source": [
    "Prices.loc[Prices['Interest'] > 0.2*Prices['Principal'], 'Interest'] = 0\n",
    "Prices['Clean price'] = Prices['Clean price pct']/100 * Prices['Principal']\n",
    "Prices['Price'] = Prices['Clean price'] + Prices['Interest']"
   ]
  },
  {
   "cell_type": "code",
   "execution_count": null,
   "id": "e7d3c730-524d-4f14-9d18-ef31aaacc433",
   "metadata": {},
   "outputs": [],
   "source": [
    "cbonds_bonds_idx = Prices[~Prices[\"Price\"].isna()].index\n",
    "Prices.loc[cbonds_bonds_idx, \"Type\"] = 'Облигация'\n",
    "Prices.loc[cbonds_bonds_idx, 'Source'] = 'Cbonds'\n",
    "Prices.loc[cbonds_bonds_idx, 'ISIN in DB'] = 1"
   ]
  },
  {
   "cell_type": "code",
   "execution_count": null,
   "id": "f96ba0a6-c50b-4946-adb8-4df49681c416",
   "metadata": {},
   "outputs": [],
   "source": [
    "ResultPrices = pd.concat([ResultPrices, Prices.loc[cbonds_bonds_idx]], axis=0)\n",
    "Prices = Prices[Prices['Price'].isna()]"
   ]
  },
  {
   "cell_type": "markdown",
   "id": "05336ad5-53d1-44b6-952a-ff1ad0157b55",
   "metadata": {
    "jp-MarkdownHeadingCollapsed": true
   },
   "source": [
    "##### Шаг 2.2. Stocks"
   ]
  },
  {
   "cell_type": "code",
   "execution_count": null,
   "id": "ff9ef339-6122-41a1-a833-5d0098d893b3",
   "metadata": {},
   "outputs": [],
   "source": [
    "tradings_stocks_all = pd.read_excel(f'./data/Input/tradings_stocks_all.xls')\n",
    "\n",
    "tradings_stocks_all = tradings_stocks_all[['ISIN', 'Краткое название эмитента (rus)', 'Валюта номинала', 'Валюта торгов', 'Цена закрытия']]\\\n",
    ".rename(columns={\n",
    "    'Краткое название эмитента (rus)': 'Name', \n",
    "    'Валюта номинала': 'Currency', \n",
    "    'Валюта торгов': 'Trade currency', \n",
    "    'Цена закрытия': 'Price'\n",
    "})"
   ]
  },
  {
   "cell_type": "code",
   "execution_count": null,
   "id": "8a00c1fc-6575-4cc2-b56f-b5aeac82b912",
   "metadata": {},
   "outputs": [],
   "source": [
    "tradings_stocks_all = tradings_stocks_all.merge(CurrencyRate[[\"currency\", \"rate\"]], how='left', left_on=\"Trade currency\", right_on=\"currency\")\\\n",
    ".rename(columns={'rate': 'trade rate'})\n",
    "tradings_stocks_all = tradings_stocks_all.merge(CurrencyRate[[\"currency\", \"rate\"]], how='left', left_on=\"Currency\", right_on=\"currency\")\n",
    "tradings_stocks_all['RUB Price'] = tradings_stocks_all['Price'] * tradings_stocks_all['trade rate']\n",
    "tradings_stocks_all['RUB Price'] = tradings_stocks_all.groupby(\"ISIN\")['RUB Price'].transform('mean')\n",
    "tradings_stocks_all['Currency'] = tradings_stocks_all['Currency'].combine_first(tradings_stocks_all['Trade currency'])\n",
    "tradings_stocks_all['Clean price'] = tradings_stocks_all['RUB Price'] / tradings_stocks_all['rate']\n",
    "tradings_stocks_all['Price'] = tradings_stocks_all['Clean price']\n",
    "tradings_stocks_all['FX Rate'] = tradings_stocks_all['trade rate'].combine_first(tradings_stocks_all['rate'])"
   ]
  },
  {
   "cell_type": "code",
   "execution_count": null,
   "id": "85644756-8a15-4187-93f2-3ab57b0cb43a",
   "metadata": {},
   "outputs": [],
   "source": [
    "cbonds_stocks_idx = tradings_stocks_all[~tradings_stocks_all[\"Price\"].isna()].index\n",
    "tradings_stocks_all.loc[cbonds_stocks_idx, \"Type\"] = 'Акция'\n",
    "tradings_stocks_all.loc[cbonds_stocks_idx, 'Source'] = 'Cbonds'\n",
    "tradings_stocks_all.loc[cbonds_stocks_idx, 'ISIN in DB'] = 1"
   ]
  },
  {
   "cell_type": "code",
   "execution_count": null,
   "id": "d33abffb-fc4a-4bb1-a1f6-45c423681e38",
   "metadata": {},
   "outputs": [],
   "source": [
    "Prices.update(tradings_stocks_all.groupby(\"ISIN\").first())"
   ]
  },
  {
   "cell_type": "code",
   "execution_count": null,
   "id": "62d91c2c-9bcf-4c5a-bef0-84ad3e306ba3",
   "metadata": {},
   "outputs": [],
   "source": [
    "ResultPrices = pd.concat([ResultPrices, Prices[~Prices[\"Price\"].isna()]], axis=0)\n",
    "Prices = Prices[Prices['Price'].isna()]"
   ]
  },
  {
   "cell_type": "markdown",
   "id": "9aee51b4-d1d6-4bbe-baf6-4802d810ab10",
   "metadata": {
    "jp-MarkdownHeadingCollapsed": true
   },
   "source": [
    "#### Шаг 3. MOEX"
   ]
  },
  {
   "cell_type": "code",
   "execution_count": null,
   "id": "2a92c63e-4640-4173-b620-c69fa9a35dd1",
   "metadata": {
    "scrolled": true
   },
   "outputs": [],
   "source": [
    "HistoryStockBonds = RuDataDF(\"HistoryStockBonds\").df\n",
    "HistoryStockBonds.head()"
   ]
  },
  {
   "cell_type": "code",
   "execution_count": null,
   "id": "732369c9-608b-4b9d-8084-3df416602ec4",
   "metadata": {
    "scrolled": true
   },
   "outputs": [],
   "source": [
    "HistoryStockShares = RuDataDF(\"HistoryStockShares\").df\n",
    "HistoryStockShares.head()"
   ]
  },
  {
   "cell_type": "code",
   "execution_count": null,
   "id": "af5439ef-c0fd-4418-a4be-923b324e93f3",
   "metadata": {
    "scrolled": true
   },
   "outputs": [],
   "source": [
    "HistoryStockNdm = RuDataDF(\"HistoryStockNdm\").df\n",
    "HistoryStockNdm.head()"
   ]
  },
  {
   "cell_type": "code",
   "execution_count": null,
   "id": "921381d2-1d85-4441-a45c-569372adbf84",
   "metadata": {
    "scrolled": true
   },
   "outputs": [],
   "source": [
    "HistoryStockCcp = RuDataDF(\"HistoryStockCcp\").df\n",
    "HistoryStockCcp.head()"
   ]
  },
  {
   "cell_type": "code",
   "execution_count": null,
   "id": "ebae13ea-96aa-4ad1-b021-5fb04e85ea28",
   "metadata": {},
   "outputs": [],
   "source": [
    "TransformHistoryStockBonds = HistoryStockBonds.groupby(\"isin\")['close'].last().rename(\"Price\").rename_axis(\"ISIN\")\n",
    "TransformHistoryStockShares = HistoryStockShares.groupby(\"isin\")['close'].last().rename(\"Price\").rename_axis(\"ISIN\")\n",
    "TransformHistoryStockNdm = HistoryStockNdm.groupby(\"isin\")['close'].last().rename(\"Price\").rename_axis(\"ISIN\")\n",
    "TransformHistoryStockCcp = HistoryStockCcp.groupby(\"isin\")['close'].last().rename(\"Price\").rename_axis(\"ISIN\")"
   ]
  },
  {
   "cell_type": "code",
   "execution_count": null,
   "id": "6a719684-d020-47a0-8430-83485785a7bf",
   "metadata": {},
   "outputs": [],
   "source": [
    "Prices.update(TransformHistoryStockBonds)\n",
    "Prices.update(TransformHistoryStockShares)\n",
    "Prices.update(TransformHistoryStockNdm)\n",
    "Prices.update(TransformHistoryStockCcp)"
   ]
  },
  {
   "cell_type": "code",
   "execution_count": null,
   "id": "a8ffde47-d6da-4867-89f7-2aa6d438be15",
   "metadata": {},
   "outputs": [],
   "source": [
    "moex_idx = Prices[~Prices[\"Price\"].isna()].index\n",
    "Prices.loc[moex_idx, 'Source'] = 'RU Data (MOEX)'\n",
    "Prices.loc[moex_idx, 'ISIN in DB'] = 1"
   ]
  },
  {
   "cell_type": "code",
   "execution_count": null,
   "id": "0245830d-8cfc-4719-8d4f-06b9e62b00de",
   "metadata": {},
   "outputs": [],
   "source": [
    "ResultPrices = pd.concat([ResultPrices, Prices.loc[moex_idx]], axis=0)\n",
    "Prices = Prices[Prices['Price'].isna()]"
   ]
  },
  {
   "cell_type": "markdown",
   "id": "4570bbca-b446-4f77-9887-37ff6baa53ec",
   "metadata": {},
   "source": [
    "#### Шаг 4. Finish"
   ]
  },
  {
   "cell_type": "code",
   "execution_count": null,
   "id": "4e7b9749-6b30-4ad6-b4d8-8653bd5a35da",
   "metadata": {},
   "outputs": [],
   "source": [
    "FullPrices = pd.concat([ResultPrices, Prices], axis=0)"
   ]
  },
  {
   "cell_type": "markdown",
   "id": "a5ee9531-4c76-4244-a83f-b0ac3482051f",
   "metadata": {
    "jp-MarkdownHeadingCollapsed": true
   },
   "source": [
    "##### Шаг 4.1. Update currency"
   ]
  },
  {
   "cell_type": "code",
   "execution_count": null,
   "id": "4b311a72-4f66-4e69-ac36-27f45793a376",
   "metadata": {},
   "outputs": [],
   "source": [
    "FullPrices = FullPrices\\\n",
    ".reset_index()\\\n",
    ".merge(CurrencyRate[['currency', 'rate']], how='left', left_on='Currency', right_on='currency')\\\n",
    ".set_index(\"ISIN\")"
   ]
  },
  {
   "cell_type": "code",
   "execution_count": null,
   "id": "86645192-bfa5-40f2-9999-eb53253b0f45",
   "metadata": {
    "scrolled": true
   },
   "outputs": [],
   "source": [
    "rub_price_idx = FullPrices[FullPrices[\"RUB Price\"].isna()].index\n",
    "FullPrices.loc[rub_price_idx, \"FX Rate\"] = FullPrices.loc[rub_price_idx, \"rate\"].fillna(1)\n",
    "FullPrices.loc[rub_price_idx, \"RUB Price\"] = FullPrices.loc[rub_price_idx, \"Price\"] * FullPrices.loc[rub_price_idx, \"FX Rate\"]"
   ]
  },
  {
   "cell_type": "code",
   "execution_count": null,
   "id": "24a219db-b412-4214-a5c7-15e1367a137c",
   "metadata": {},
   "outputs": [],
   "source": [
    "FullPrices.drop(columns=['currency', 'rate'], inplace=True)"
   ]
  },
  {
   "cell_type": "markdown",
   "id": "0bb4fc3a-4f19-4eb2-8814-d71305f32d7b",
   "metadata": {},
   "source": [
    "##### Шаг 4.2. Write excel"
   ]
  },
  {
   "cell_type": "code",
   "execution_count": null,
   "id": "06c640e1-7b67-4162-b578-060f955afc31",
   "metadata": {},
   "outputs": [],
   "source": [
    "with pd.ExcelWriter(f'./data/Output/prices_{REPORT_DATE_STR.replace(\"-\", \"\")}.xlsx', datetime_format='dd.mm.yyyy') as writer: \n",
    "    FullPrices[~FullPrices[\"Price\"].isna()].to_excel(writer)"
   ]
  },
  {
   "cell_type": "code",
   "execution_count": null,
   "id": "630b01c8-9acb-42e4-9617-4aaf0882cae5",
   "metadata": {},
   "outputs": [],
   "source": [
    "with pd.ExcelWriter(f'./data/Output/prices_{REPORT_DATE_STR.replace(\"-\", \"\")}_full.xlsx', datetime_format='dd.mm.yyyy') as writer: \n",
    "    FullPrices.to_excel(writer)"
   ]
  }
 ],
 "metadata": {
  "kernelspec": {
   "display_name": "Python 3 (ipykernel)",
   "language": "python",
   "name": "python3"
  },
  "language_info": {
   "codemirror_mode": {
    "name": "ipython",
    "version": 3
   },
   "file_extension": ".py",
   "mimetype": "text/x-python",
   "name": "python",
   "nbconvert_exporter": "python",
   "pygments_lexer": "ipython3",
   "version": "3.11.9"
  }
 },
 "nbformat": 4,
 "nbformat_minor": 5
}
